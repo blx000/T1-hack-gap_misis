{
  "nbformat": 4,
  "nbformat_minor": 0,
  "metadata": {
    "colab": {
      "provenance": [],
      "authorship_tag": "ABX9TyMw1VcEUr3lxR7YgnY99qeD",
      "include_colab_link": true
    },
    "kernelspec": {
      "name": "python3",
      "display_name": "Python 3"
    },
    "language_info": {
      "name": "python"
    },
    "widgets": {
      "application/vnd.jupyter.widget-state+json": {
        "542f9cc3a3ac401fafed7a909bfffb62": {
          "model_module": "@jupyter-widgets/controls",
          "model_name": "HBoxModel",
          "model_module_version": "1.5.0",
          "state": {
            "_dom_classes": [],
            "_model_module": "@jupyter-widgets/controls",
            "_model_module_version": "1.5.0",
            "_model_name": "HBoxModel",
            "_view_count": null,
            "_view_module": "@jupyter-widgets/controls",
            "_view_module_version": "1.5.0",
            "_view_name": "HBoxView",
            "box_style": "",
            "children": [
              "IPY_MODEL_a76a1e1ea31c445b8fc44d861c258534",
              "IPY_MODEL_3f32b1a12cc446828e10e526a86468b9",
              "IPY_MODEL_54ac9a9e25a74eaf92991ef8d96d3dc7"
            ],
            "layout": "IPY_MODEL_8d240ee50eca45c293c44903cff2672a"
          }
        },
        "a76a1e1ea31c445b8fc44d861c258534": {
          "model_module": "@jupyter-widgets/controls",
          "model_name": "HTMLModel",
          "model_module_version": "1.5.0",
          "state": {
            "_dom_classes": [],
            "_model_module": "@jupyter-widgets/controls",
            "_model_module_version": "1.5.0",
            "_model_name": "HTMLModel",
            "_view_count": null,
            "_view_module": "@jupyter-widgets/controls",
            "_view_module_version": "1.5.0",
            "_view_name": "HTMLView",
            "description": "",
            "description_tooltip": null,
            "layout": "IPY_MODEL_ec24e8781f59475bb2152a8e27c3aa79",
            "placeholder": "​",
            "style": "IPY_MODEL_5aae48b3363548479222df04605a462a",
            "value": "Loading checkpoint shards: 100%"
          }
        },
        "3f32b1a12cc446828e10e526a86468b9": {
          "model_module": "@jupyter-widgets/controls",
          "model_name": "FloatProgressModel",
          "model_module_version": "1.5.0",
          "state": {
            "_dom_classes": [],
            "_model_module": "@jupyter-widgets/controls",
            "_model_module_version": "1.5.0",
            "_model_name": "FloatProgressModel",
            "_view_count": null,
            "_view_module": "@jupyter-widgets/controls",
            "_view_module_version": "1.5.0",
            "_view_name": "ProgressView",
            "bar_style": "success",
            "description": "",
            "description_tooltip": null,
            "layout": "IPY_MODEL_7ed0fcc604a243fd913d253019f3430d",
            "max": 3,
            "min": 0,
            "orientation": "horizontal",
            "style": "IPY_MODEL_1f4794dcefc44d6dad9ab0c1c66d79f4",
            "value": 3
          }
        },
        "54ac9a9e25a74eaf92991ef8d96d3dc7": {
          "model_module": "@jupyter-widgets/controls",
          "model_name": "HTMLModel",
          "model_module_version": "1.5.0",
          "state": {
            "_dom_classes": [],
            "_model_module": "@jupyter-widgets/controls",
            "_model_module_version": "1.5.0",
            "_model_name": "HTMLModel",
            "_view_count": null,
            "_view_module": "@jupyter-widgets/controls",
            "_view_module_version": "1.5.0",
            "_view_name": "HTMLView",
            "description": "",
            "description_tooltip": null,
            "layout": "IPY_MODEL_621b575bf61d482698aaa26c6e7d2af7",
            "placeholder": "​",
            "style": "IPY_MODEL_23feb100d994422dac5276a9281261aa",
            "value": " 3/3 [00:01&lt;00:00,  1.82it/s]"
          }
        },
        "8d240ee50eca45c293c44903cff2672a": {
          "model_module": "@jupyter-widgets/base",
          "model_name": "LayoutModel",
          "model_module_version": "1.2.0",
          "state": {
            "_model_module": "@jupyter-widgets/base",
            "_model_module_version": "1.2.0",
            "_model_name": "LayoutModel",
            "_view_count": null,
            "_view_module": "@jupyter-widgets/base",
            "_view_module_version": "1.2.0",
            "_view_name": "LayoutView",
            "align_content": null,
            "align_items": null,
            "align_self": null,
            "border": null,
            "bottom": null,
            "display": null,
            "flex": null,
            "flex_flow": null,
            "grid_area": null,
            "grid_auto_columns": null,
            "grid_auto_flow": null,
            "grid_auto_rows": null,
            "grid_column": null,
            "grid_gap": null,
            "grid_row": null,
            "grid_template_areas": null,
            "grid_template_columns": null,
            "grid_template_rows": null,
            "height": null,
            "justify_content": null,
            "justify_items": null,
            "left": null,
            "margin": null,
            "max_height": null,
            "max_width": null,
            "min_height": null,
            "min_width": null,
            "object_fit": null,
            "object_position": null,
            "order": null,
            "overflow": null,
            "overflow_x": null,
            "overflow_y": null,
            "padding": null,
            "right": null,
            "top": null,
            "visibility": null,
            "width": null
          }
        },
        "ec24e8781f59475bb2152a8e27c3aa79": {
          "model_module": "@jupyter-widgets/base",
          "model_name": "LayoutModel",
          "model_module_version": "1.2.0",
          "state": {
            "_model_module": "@jupyter-widgets/base",
            "_model_module_version": "1.2.0",
            "_model_name": "LayoutModel",
            "_view_count": null,
            "_view_module": "@jupyter-widgets/base",
            "_view_module_version": "1.2.0",
            "_view_name": "LayoutView",
            "align_content": null,
            "align_items": null,
            "align_self": null,
            "border": null,
            "bottom": null,
            "display": null,
            "flex": null,
            "flex_flow": null,
            "grid_area": null,
            "grid_auto_columns": null,
            "grid_auto_flow": null,
            "grid_auto_rows": null,
            "grid_column": null,
            "grid_gap": null,
            "grid_row": null,
            "grid_template_areas": null,
            "grid_template_columns": null,
            "grid_template_rows": null,
            "height": null,
            "justify_content": null,
            "justify_items": null,
            "left": null,
            "margin": null,
            "max_height": null,
            "max_width": null,
            "min_height": null,
            "min_width": null,
            "object_fit": null,
            "object_position": null,
            "order": null,
            "overflow": null,
            "overflow_x": null,
            "overflow_y": null,
            "padding": null,
            "right": null,
            "top": null,
            "visibility": null,
            "width": null
          }
        },
        "5aae48b3363548479222df04605a462a": {
          "model_module": "@jupyter-widgets/controls",
          "model_name": "DescriptionStyleModel",
          "model_module_version": "1.5.0",
          "state": {
            "_model_module": "@jupyter-widgets/controls",
            "_model_module_version": "1.5.0",
            "_model_name": "DescriptionStyleModel",
            "_view_count": null,
            "_view_module": "@jupyter-widgets/base",
            "_view_module_version": "1.2.0",
            "_view_name": "StyleView",
            "description_width": ""
          }
        },
        "7ed0fcc604a243fd913d253019f3430d": {
          "model_module": "@jupyter-widgets/base",
          "model_name": "LayoutModel",
          "model_module_version": "1.2.0",
          "state": {
            "_model_module": "@jupyter-widgets/base",
            "_model_module_version": "1.2.0",
            "_model_name": "LayoutModel",
            "_view_count": null,
            "_view_module": "@jupyter-widgets/base",
            "_view_module_version": "1.2.0",
            "_view_name": "LayoutView",
            "align_content": null,
            "align_items": null,
            "align_self": null,
            "border": null,
            "bottom": null,
            "display": null,
            "flex": null,
            "flex_flow": null,
            "grid_area": null,
            "grid_auto_columns": null,
            "grid_auto_flow": null,
            "grid_auto_rows": null,
            "grid_column": null,
            "grid_gap": null,
            "grid_row": null,
            "grid_template_areas": null,
            "grid_template_columns": null,
            "grid_template_rows": null,
            "height": null,
            "justify_content": null,
            "justify_items": null,
            "left": null,
            "margin": null,
            "max_height": null,
            "max_width": null,
            "min_height": null,
            "min_width": null,
            "object_fit": null,
            "object_position": null,
            "order": null,
            "overflow": null,
            "overflow_x": null,
            "overflow_y": null,
            "padding": null,
            "right": null,
            "top": null,
            "visibility": null,
            "width": null
          }
        },
        "1f4794dcefc44d6dad9ab0c1c66d79f4": {
          "model_module": "@jupyter-widgets/controls",
          "model_name": "ProgressStyleModel",
          "model_module_version": "1.5.0",
          "state": {
            "_model_module": "@jupyter-widgets/controls",
            "_model_module_version": "1.5.0",
            "_model_name": "ProgressStyleModel",
            "_view_count": null,
            "_view_module": "@jupyter-widgets/base",
            "_view_module_version": "1.2.0",
            "_view_name": "StyleView",
            "bar_color": null,
            "description_width": ""
          }
        },
        "621b575bf61d482698aaa26c6e7d2af7": {
          "model_module": "@jupyter-widgets/base",
          "model_name": "LayoutModel",
          "model_module_version": "1.2.0",
          "state": {
            "_model_module": "@jupyter-widgets/base",
            "_model_module_version": "1.2.0",
            "_model_name": "LayoutModel",
            "_view_count": null,
            "_view_module": "@jupyter-widgets/base",
            "_view_module_version": "1.2.0",
            "_view_name": "LayoutView",
            "align_content": null,
            "align_items": null,
            "align_self": null,
            "border": null,
            "bottom": null,
            "display": null,
            "flex": null,
            "flex_flow": null,
            "grid_area": null,
            "grid_auto_columns": null,
            "grid_auto_flow": null,
            "grid_auto_rows": null,
            "grid_column": null,
            "grid_gap": null,
            "grid_row": null,
            "grid_template_areas": null,
            "grid_template_columns": null,
            "grid_template_rows": null,
            "height": null,
            "justify_content": null,
            "justify_items": null,
            "left": null,
            "margin": null,
            "max_height": null,
            "max_width": null,
            "min_height": null,
            "min_width": null,
            "object_fit": null,
            "object_position": null,
            "order": null,
            "overflow": null,
            "overflow_x": null,
            "overflow_y": null,
            "padding": null,
            "right": null,
            "top": null,
            "visibility": null,
            "width": null
          }
        },
        "23feb100d994422dac5276a9281261aa": {
          "model_module": "@jupyter-widgets/controls",
          "model_name": "DescriptionStyleModel",
          "model_module_version": "1.5.0",
          "state": {
            "_model_module": "@jupyter-widgets/controls",
            "_model_module_version": "1.5.0",
            "_model_name": "DescriptionStyleModel",
            "_view_count": null,
            "_view_module": "@jupyter-widgets/base",
            "_view_module_version": "1.2.0",
            "_view_name": "StyleView",
            "description_width": ""
          }
        }
      }
    }
  },
  "cells": [
    {
      "cell_type": "markdown",
      "metadata": {
        "id": "view-in-github",
        "colab_type": "text"
      },
      "source": [
        "<a href=\"https://colab.research.google.com/github/blx000/T1-hack-gap_misis/blob/main/Untitled0.ipynb\" target=\"_parent\"><img src=\"https://colab.research.google.com/assets/colab-badge.svg\" alt=\"Open In Colab\"/></a>"
      ]
    },
    {
      "cell_type": "code",
      "execution_count": 2,
      "metadata": {
        "colab": {
          "base_uri": "https://localhost:8080/",
          "height": 275,
          "referenced_widgets": [
            "542f9cc3a3ac401fafed7a909bfffb62",
            "a76a1e1ea31c445b8fc44d861c258534",
            "3f32b1a12cc446828e10e526a86468b9",
            "54ac9a9e25a74eaf92991ef8d96d3dc7",
            "8d240ee50eca45c293c44903cff2672a",
            "ec24e8781f59475bb2152a8e27c3aa79",
            "5aae48b3363548479222df04605a462a",
            "7ed0fcc604a243fd913d253019f3430d",
            "1f4794dcefc44d6dad9ab0c1c66d79f4",
            "621b575bf61d482698aaa26c6e7d2af7",
            "23feb100d994422dac5276a9281261aa"
          ]
        },
        "id": "-Ts8R6mccP9W",
        "outputId": "0743c1d6-f82e-4ad5-c7af-82c76dbf7b6e"
      },
      "outputs": [
        {
          "output_type": "display_data",
          "data": {
            "text/plain": [
              "Loading checkpoint shards:   0%|          | 0/3 [00:00<?, ?it/s]"
            ],
            "application/vnd.jupyter.widget-view+json": {
              "version_major": 2,
              "version_minor": 0,
              "model_id": "542f9cc3a3ac401fafed7a909bfffb62"
            }
          },
          "metadata": {}
        },
        {
          "output_type": "stream",
          "name": "stdout",
          "text": [
            "<s> You are an intelligent clinical languge model.\n",
            "Below is a snippet of patient's discharge summary and a following instruction from healthcare professional.\n",
            "Write a response that appropriately completes the instruction.\n",
            "The response should provide the accurate answer to the instruction, while being concise.\n",
            "\n",
            "[Discharge Summary Begin]\n",
            "This is a sample note\n",
            "[Discharge Summary End]\n",
            "\n",
            "[Instruction Begin]\n",
            "What is the diagnosis?\n",
            "[Instruction End] \n",
            "The diagnosis is not provided in the given discharge summary.</s>\n"
          ]
        }
      ],
      "source": [
        "from transformers import AutoTokenizer, AutoModelForCausalLM\n",
        "tokenizer = AutoTokenizer.from_pretrained(\"starmpcc/Asclepius-Llama2-7B\", use_fast=False)\n",
        "model = AutoModelForCausalLM.from_pretrained(\"starmpcc/Asclepius-Llama2-7B\")\n",
        "\n",
        "prompt = \"\"\"You are an intelligent clinical languge model.\n",
        "Below is a snippet of patient's discharge summary and a following instruction from healthcare professional.\n",
        "Write a response that appropriately completes the instruction.\n",
        "The response should provide the accurate answer to the instruction, while being concise.\n",
        "\n",
        "[Discharge Summary Begin]\n",
        "{note}\n",
        "[Discharge Summary End]\n",
        "\n",
        "[Instruction Begin]\n",
        "{question}\n",
        "[Instruction End]\n",
        "\"\"\"\n",
        "note = \"This is a sample note\"\n",
        "question = \"What is the diagnosis?\"\n",
        "\n",
        "model_input = prompt.format(note=note, question=question)\n",
        "input_ids = tokenizer(model_input, return_tensors=\"pt\").input_ids\n",
        "output = model.generate(input_ids)\n",
        "print(tokenizer.decode(output[0]))"
      ]
    },
    {
      "cell_type": "code",
      "source": [
        "import torch\n",
        "from transformers import LlamaForCausalLM, LlamaTokenizer, TrainingArguments, Trainer\n",
        "\n",
        "# Load the pre-trained LLaMA 2 7B model and tokenizer\n",
        "model = LlamaForCausalLM.from_pretrained(\"starmpcc/Asclepius-Llama2-7B\")\n",
        "tokenizer = LlamaTokenizer.from_pretrained(\"starmpcc/Asclepius-Llama2-7B\")\n",
        "\n",
        "# Prepare your custom dataset\n",
        "# Assuming your dataset is in a CSV file with columns 'text' and 'label'\n",
        "import pandas as pd\n",
        "dataset = pd.read_csv('dataset.csv')\n",
        "text_data = dataset['text'].tolist()\n",
        "label_data = dataset['label'].tolist()\n",
        "\n",
        "# Tokenize the text data\n",
        "input_ids = [tokenizer.encode(text, return_tensors='pt') for text in text_data]\n",
        "labels = [tokenizer.encode(label, return_tensors='pt') for label in label_data]\n",
        "\n",
        "# Prepare the dataset for fine-tuning\n",
        "from torch.utils.data import Dataset, DataLoader\n",
        "class CustomDataset(Dataset):\n",
        "    def __init__(self, input_ids, labels):\n",
        "        self.input_ids = input_ids\n",
        "        self.labels = labels\n",
        "\n",
        "    def __len__(self):\n",
        "        return len(self.input_ids)\n",
        "\n",
        "    def __getitem__(self, idx):\n",
        "        return self.input_ids[idx], self.labels[idx]\n",
        "\n",
        "dataset = CustomDataset(input_ids, labels)\n",
        "dataloader = DataLoader(dataset, batch_size=4, shuffle=True)\n",
        "\n",
        "# Fine-tune the LLaMA 2 7B model\n",
        "training_args = TrainingArguments(\n",
        "    output_dir=\"./llama2-finetuned\",\n",
        "    overwrite_output_dir=True,\n",
        "    num_train_epochs=3,\n",
        "    per_device_train_batch_size=4,\n",
        "    save_steps=500,\n",
        "    save_total_limit=2,\n",
        "    evaluation_strategy=\"no\",\n",
        "    gradient_accumulation_steps=8,\n",
        "    fp16=True,\n",
        ")\n",
        "\n",
        "trainer = Trainer(\n",
        "    model=model,\n",
        "    args=training_args,\n",
        "    train_dataset=dataset,\n",
        ")\n",
        "\n",
        "trainer.train()\n",
        "\n",
        "# Save the fine-tuned model\n",
        "model.save_pretrained(\"./llama2-finetuned\")\n",
        "tokenizer.save_pretrained(\"./llama2-finetuned\")"
      ],
      "metadata": {
        "id": "D2ju3BlEkLxw"
      },
      "execution_count": null,
      "outputs": []
    },
    {
      "cell_type": "markdown",
      "source": [
        "Возможные базы данных Kaggle"
      ],
      "metadata": {
        "id": "lNU_swVnlp8U"
      }
    },
    {
      "cell_type": "code",
      "source": [
        "https://www.kaggle.com/datasets/tobiasbueck/multilingual-customer-support-tickets\n",
        "https://www.kaggle.com/datasets/vadimdmls/pet-project"
      ],
      "metadata": {
        "id": "iRYdkPGWlsm-"
      },
      "execution_count": null,
      "outputs": []
    },
    {
      "cell_type": "markdown",
      "source": [
        "_____________________________________________________________________\n"
      ],
      "metadata": {
        "id": "dBKljDMOm6y_"
      }
    }
  ]
}